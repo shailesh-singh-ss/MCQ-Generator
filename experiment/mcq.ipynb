{
 "cells": [
  {
   "cell_type": "code",
   "execution_count": 202,
   "metadata": {},
   "outputs": [],
   "source": [
    "import os\n",
    "import json\n",
    "import pandas as pd\n",
    "import traceback"
   ]
  },
  {
   "cell_type": "code",
   "execution_count": 203,
   "metadata": {},
   "outputs": [],
   "source": [
    "from langchain import PromptTemplate, LLMChain\n",
    "# from langchain_cohere import ChatCohere\n",
    "from langchain_cohere.chat_models import ChatCohere\n",
    "from langchain_core.messages import HumanMessage"
   ]
  },
  {
   "cell_type": "code",
   "execution_count": 204,
   "metadata": {},
   "outputs": [
    {
     "data": {
      "text/plain": [
       "True"
      ]
     },
     "execution_count": 204,
     "metadata": {},
     "output_type": "execute_result"
    }
   ],
   "source": [
    "from dotenv import load_dotenv\n",
    "load_dotenv()"
   ]
  },
  {
   "cell_type": "code",
   "execution_count": 205,
   "metadata": {},
   "outputs": [],
   "source": [
    "KEY = os.getenv('COHERE_API_TOKEN')"
   ]
  },
  {
   "cell_type": "code",
   "execution_count": 206,
   "metadata": {},
   "outputs": [],
   "source": [
    "llm = ChatCohere(cohere_api_key=KEY,model=\"command-r-plus\",temperature=0.8)"
   ]
  },
  {
   "cell_type": "code",
   "execution_count": 207,
   "metadata": {},
   "outputs": [],
   "source": [
    "# llm2 =ChatCohere(cohere_api_key=KEY,model=\"rerank-english-v3.0\",temperature=0.8)"
   ]
  },
  {
   "cell_type": "code",
   "execution_count": 208,
   "metadata": {},
   "outputs": [],
   "source": [
    "from langchain.chains import SequentialChain\n",
    "import PyPDF2"
   ]
  },
  {
   "cell_type": "code",
   "execution_count": 209,
   "metadata": {},
   "outputs": [],
   "source": [
    "RESPONSE_JSON = {\n",
    "    \"1\": {\n",
    "        \"mcq\": \"multiple choice question\",\n",
    "        \"options\": {\n",
    "            \"a\": \"choice here\",\n",
    "            \"b\": \"choice here\",\n",
    "            \"c\": \"choice here\",\n",
    "            \"d\": \"choice here\",\n",
    "        },\n",
    "        \"correct\": \"correct answer\",\n",
    "    },\n",
    "    \"2\": {\n",
    "        \"mcq\": \"multiple choice question\",\n",
    "        \"options\": {\n",
    "            \"a\": \"choice here\",\n",
    "            \"b\": \"choice here\",\n",
    "            \"c\": \"choice here\",\n",
    "            \"d\": \"choice here\",\n",
    "        },\n",
    "        \"correct\": \"correct answer\",\n",
    "    },\n",
    "    \"3\": {\n",
    "        \"mcq\": \"multiple choice question\",\n",
    "        \"options\": {\n",
    "            \"a\": \"choice here\",\n",
    "            \"b\": \"choice here\",\n",
    "            \"c\": \"choice here\",\n",
    "            \"d\": \"choice here\",\n",
    "        },\n",
    "        \"correct\": \"correct answer\",\n",
    "    },\n",
    "}"
   ]
  },
  {
   "cell_type": "code",
   "execution_count": 210,
   "metadata": {},
   "outputs": [
    {
     "data": {
      "text/plain": [
       "'{\"1\": {\"mcq\": \"multiple choice question\", \"options\": {\"a\": \"choice here\", \"b\": \"choice here\", \"c\": \"choice here\", \"d\": \"choice here\"}, \"correct\": \"correct answer\"}, \"2\": {\"mcq\": \"multiple choice question\", \"options\": {\"a\": \"choice here\", \"b\": \"choice here\", \"c\": \"choice here\", \"d\": \"choice here\"}, \"correct\": \"correct answer\"}, \"3\": {\"mcq\": \"multiple choice question\", \"options\": {\"a\": \"choice here\", \"b\": \"choice here\", \"c\": \"choice here\", \"d\": \"choice here\"}, \"correct\": \"correct answer\"}}'"
      ]
     },
     "execution_count": 210,
     "metadata": {},
     "output_type": "execute_result"
    }
   ],
   "source": [
    "json.dumps(RESPONSE_JSON)"
   ]
  },
  {
   "cell_type": "code",
   "execution_count": 211,
   "metadata": {},
   "outputs": [],
   "source": [
    "TEMPLATE=\"\"\"\n",
    "Text:{text}\n",
    "You are an expert MCQ maker. Given the above text, it is your job to \\\n",
    "create a quiz  of {number} multiple choice questions for {subject} students in {tone} tone. \n",
    "Make sure the questions are not repeated and check all the questions to be conforming the text as well.\n",
    "Make sure to format your response like  RESPONSE_JSON below and use it as a guide and make sure that the formate is in json  that are able to loads in json. \\\n",
    "Do not wrtie json and \\\\n in response. Ensure to make {number} MCQs\n",
    "### RESPONSE_JSON\n",
    "{response_json}\n",
    "\n",
    "\"\"\""
   ]
  },
  {
   "cell_type": "code",
   "execution_count": 212,
   "metadata": {},
   "outputs": [],
   "source": [
    "quiz_generation_prompt = PromptTemplate(\n",
    "    input_variables=[\"text\", \"number\", \"subject\", \"tone\", \"response_json\"],\n",
    "    template=TEMPLATE\n",
    "    )"
   ]
  },
  {
   "cell_type": "code",
   "execution_count": 213,
   "metadata": {},
   "outputs": [],
   "source": [
    "quiz_chain=LLMChain(llm=llm, prompt=quiz_generation_prompt, output_key=\"quiz\", verbose=True)"
   ]
  },
  {
   "cell_type": "code",
   "execution_count": 214,
   "metadata": {},
   "outputs": [],
   "source": [
    "TEMPLATE2=\"\"\"\n",
    "For each of the following multiple-choice questions, provide a comprehensive review of the options and select the best answer. Explain your reasoning for each selection and provide additional context or examples to support your choices. \n",
    "Subject: {subject}\n",
    "MCQ: {quiz}\n",
    "Review and Selection:\n",
    "[Explain why one of the options is the best answer, providing supporting evidence and a clear rationale. Offer additional insights or examples related to the subject matter to enhance the explanation.]\n",
    "Remember to tailor your explanation to the specific subject and question asked, offering a detailed and insightful review for each option before making your selection. Justify your choices thoroughly and feel free to provide alternative perspectives or discuss any limitations to the question or options presented.\n",
    "\"\"\""
   ]
  },
  {
   "cell_type": "code",
   "execution_count": 215,
   "metadata": {},
   "outputs": [],
   "source": [
    "quiz_evaluation_prompt=PromptTemplate(input_variables=[\"subject\", \"quiz\"], template=TEMPLATE)"
   ]
  },
  {
   "cell_type": "code",
   "execution_count": 216,
   "metadata": {},
   "outputs": [],
   "source": [
    "review_chain=LLMChain(llm=llm, prompt=quiz_evaluation_prompt, output_key=\"review\", verbose=True)"
   ]
  },
  {
   "cell_type": "code",
   "execution_count": 217,
   "metadata": {},
   "outputs": [],
   "source": [
    "generate_evaluate_chain=SequentialChain(chains=[quiz_chain, review_chain], input_variables=[\"text\", \"number\", \"subject\", \"tone\", \"response_json\"],\n",
    "                                        output_variables=[\"quiz\", \"review\"], verbose=True,)"
   ]
  },
  {
   "cell_type": "code",
   "execution_count": 218,
   "metadata": {},
   "outputs": [],
   "source": [
    "file_path = r\"C:\\Users\\shail\\Desktop\\Projects\\mcq_generator\\data.txt\""
   ]
  },
  {
   "cell_type": "code",
   "execution_count": 219,
   "metadata": {},
   "outputs": [],
   "source": [
    "with open(file_path, 'r') as file:\n",
    "    TEXT = file.read()"
   ]
  },
  {
   "cell_type": "code",
   "execution_count": 220,
   "metadata": {},
   "outputs": [],
   "source": [
    "NUMBER=10\n",
    "SUBJECT=\"biology\"\n",
    "TONE=\"simple\""
   ]
  },
  {
   "cell_type": "code",
   "execution_count": 221,
   "metadata": {},
   "outputs": [
    {
     "name": "stdout",
     "output_type": "stream",
     "text": [
      "\n",
      "\n",
      "\u001b[1m> Entering new SequentialChain chain...\u001b[0m\n",
      "\n",
      "\n",
      "\u001b[1m> Entering new LLMChain chain...\u001b[0m\n",
      "Prompt after formatting:\n",
      "\u001b[32;1m\u001b[1;3m\n",
      "Text:Biology is the scientific study of life.[1][2][3] It is a natural science with a broad scope but has several unifying themes that tie it together as a single, coherent field.[1][2][3] For instance, all organisms are made up of cells that process hereditary information encoded in genes, which can be transmitted to future generations. Another major theme is evolution, which explains the unity and diversity of life.[1][2][3] Energy processing is also important to life as it allows organisms to move, grow, and reproduce.[1][2][3] Finally, all organisms are able to regulate their own internal environments.[1][2][3][4][5]\n",
      "\n",
      "Biologists are able to study life at multiple levels of organization,[1] from the molecular biology of a cell to the anatomy and physiology of plants and animals, and evolution of populations.[1][6] Hence, there are multiple subdisciplines within biology, each defined by the nature of their research questions and the tools that they use.[7][8][9] Like other scientists, biologists use the scientific method to make observations, pose questions, generate hypotheses, perform experiments, and form conclusions about the world around them.[1]\n",
      "\n",
      "Life on Earth, which emerged more than 3.7 billion years ago,[10] is immensely diverse. Biologists have sought to study and classify the various forms of life, from prokaryotic organisms such as archaea and bacteria to eukaryotic organisms such as protists, fungi, plants, and animals. These various organisms contribute to the biodiversity of an ecosystem, where they play specialized roles in the cycling of nutrients and energy through their biophysical environment.\n",
      "You are an expert MCQ maker. Given the above text, it is your job to create a quiz  of 10 multiple choice questions for biology students in simple tone. \n",
      "Make sure the questions are not repeated and check all the questions to be conforming the text as well.\n",
      "Make sure to format your response like  RESPONSE_JSON below and use it as a guide and make sure that the formate is in json  that are able to loads in json. Do not wrtie json and \\n in response. Ensure to make 10 MCQs\n",
      "### RESPONSE_JSON\n",
      "{\"1\": {\"mcq\": \"multiple choice question\", \"options\": {\"a\": \"choice here\", \"b\": \"choice here\", \"c\": \"choice here\", \"d\": \"choice here\"}, \"correct\": \"correct answer\"}, \"2\": {\"mcq\": \"multiple choice question\", \"options\": {\"a\": \"choice here\", \"b\": \"choice here\", \"c\": \"choice here\", \"d\": \"choice here\"}, \"correct\": \"correct answer\"}, \"3\": {\"mcq\": \"multiple choice question\", \"options\": {\"a\": \"choice here\", \"b\": \"choice here\", \"c\": \"choice here\", \"d\": \"choice here\"}, \"correct\": \"correct answer\"}}\n",
      "\n",
      "\u001b[0m\n",
      "\n",
      "\u001b[1m> Finished chain.\u001b[0m\n",
      "\n",
      "\n",
      "\u001b[1m> Entering new LLMChain chain...\u001b[0m\n",
      "Prompt after formatting:\n",
      "\u001b[32;1m\u001b[1;3m\n",
      "Text:Biology is the scientific study of life.[1][2][3] It is a natural science with a broad scope but has several unifying themes that tie it together as a single, coherent field.[1][2][3] For instance, all organisms are made up of cells that process hereditary information encoded in genes, which can be transmitted to future generations. Another major theme is evolution, which explains the unity and diversity of life.[1][2][3] Energy processing is also important to life as it allows organisms to move, grow, and reproduce.[1][2][3] Finally, all organisms are able to regulate their own internal environments.[1][2][3][4][5]\n",
      "\n",
      "Biologists are able to study life at multiple levels of organization,[1] from the molecular biology of a cell to the anatomy and physiology of plants and animals, and evolution of populations.[1][6] Hence, there are multiple subdisciplines within biology, each defined by the nature of their research questions and the tools that they use.[7][8][9] Like other scientists, biologists use the scientific method to make observations, pose questions, generate hypotheses, perform experiments, and form conclusions about the world around them.[1]\n",
      "\n",
      "Life on Earth, which emerged more than 3.7 billion years ago,[10] is immensely diverse. Biologists have sought to study and classify the various forms of life, from prokaryotic organisms such as archaea and bacteria to eukaryotic organisms such as protists, fungi, plants, and animals. These various organisms contribute to the biodiversity of an ecosystem, where they play specialized roles in the cycling of nutrients and energy through their biophysical environment.\n",
      "You are an expert MCQ maker. Given the above text, it is your job to create a quiz  of 10 multiple choice questions for biology students in simple tone. \n",
      "Make sure the questions are not repeated and check all the questions to be conforming the text as well.\n",
      "Make sure to format your response like  RESPONSE_JSON below and use it as a guide and make sure that the formate is in json  that are able to loads in json. Do not wrtie json and \\n in response. Ensure to make 10 MCQs\n",
      "### RESPONSE_JSON\n",
      "{\"1\": {\"mcq\": \"multiple choice question\", \"options\": {\"a\": \"choice here\", \"b\": \"choice here\", \"c\": \"choice here\", \"d\": \"choice here\"}, \"correct\": \"correct answer\"}, \"2\": {\"mcq\": \"multiple choice question\", \"options\": {\"a\": \"choice here\", \"b\": \"choice here\", \"c\": \"choice here\", \"d\": \"choice here\"}, \"correct\": \"correct answer\"}, \"3\": {\"mcq\": \"multiple choice question\", \"options\": {\"a\": \"choice here\", \"b\": \"choice here\", \"c\": \"choice here\", \"d\": \"choice here\"}, \"correct\": \"correct answer\"}}\n",
      "\n",
      "\u001b[0m\n",
      "\n",
      "\u001b[1m> Finished chain.\u001b[0m\n",
      "\n",
      "\u001b[1m> Finished chain.\u001b[0m\n"
     ]
    }
   ],
   "source": [
    "response=generate_evaluate_chain(\n",
    "        {\n",
    "            \"text\": TEXT,\n",
    "            \"number\": NUMBER,\n",
    "            \"subject\":SUBJECT,\n",
    "            \"tone\": TONE,\n",
    "            \"response_json\": json.dumps(RESPONSE_JSON)\n",
    "        }\n",
    ")"
   ]
  },
  {
   "cell_type": "code",
   "execution_count": 222,
   "metadata": {},
   "outputs": [
    {
     "data": {
      "text/plain": [
       "{'text': 'Biology is the scientific study of life.[1][2][3] It is a natural science with a broad scope but has several unifying themes that tie it together as a single, coherent field.[1][2][3] For instance, all organisms are made up of cells that process hereditary information encoded in genes, which can be transmitted to future generations. Another major theme is evolution, which explains the unity and diversity of life.[1][2][3] Energy processing is also important to life as it allows organisms to move, grow, and reproduce.[1][2][3] Finally, all organisms are able to regulate their own internal environments.[1][2][3][4][5]\\n\\nBiologists are able to study life at multiple levels of organization,[1] from the molecular biology of a cell to the anatomy and physiology of plants and animals, and evolution of populations.[1][6] Hence, there are multiple subdisciplines within biology, each defined by the nature of their research questions and the tools that they use.[7][8][9] Like other scientists, biologists use the scientific method to make observations, pose questions, generate hypotheses, perform experiments, and form conclusions about the world around them.[1]\\n\\nLife on Earth, which emerged more than 3.7 billion years ago,[10] is immensely diverse. Biologists have sought to study and classify the various forms of life, from prokaryotic organisms such as archaea and bacteria to eukaryotic organisms such as protists, fungi, plants, and animals. These various organisms contribute to the biodiversity of an ecosystem, where they play specialized roles in the cycling of nutrients and energy through their biophysical environment.',\n",
       " 'number': 10,\n",
       " 'subject': 'biology',\n",
       " 'tone': 'simple',\n",
       " 'response_json': '{\"1\": {\"mcq\": \"multiple choice question\", \"options\": {\"a\": \"choice here\", \"b\": \"choice here\", \"c\": \"choice here\", \"d\": \"choice here\"}, \"correct\": \"correct answer\"}, \"2\": {\"mcq\": \"multiple choice question\", \"options\": {\"a\": \"choice here\", \"b\": \"choice here\", \"c\": \"choice here\", \"d\": \"choice here\"}, \"correct\": \"correct answer\"}, \"3\": {\"mcq\": \"multiple choice question\", \"options\": {\"a\": \"choice here\", \"b\": \"choice here\", \"c\": \"choice here\", \"d\": \"choice here\"}, \"correct\": \"correct answer\"}}',\n",
       " 'quiz': '{\\n  \"1\": {\\n    \"mcq\": \"What is biology?\",\\n    \"options\": {\\n      \"a\": \"The study of the natural environment.\",\\n      \"b\": \"The scientific study of life.\",\\n      \"c\": \"A branch of science that deals with the study of chemicals.\",\\n      \"d\": \"The study of the universe and its phenomena.\"\\n    },\\n    \"correct\": \"b\"\\n  },\\n  \"2\": {\\n    \"mcq\": \"What are the unifying themes that tie biology together as a field?\",\\n    \"options\": {\\n      \"a\": \"Cell structure, evolution, energy processing, and environmental regulation.\",\\n      \"b\": \"Chemistry, physics, and biology.\",\\n      \"c\": \"Cell structure and function.\",\\n      \"d\": \"Evolution and genetics only.\"\\n    },\\n    \"correct\": \"a\"\\n  },\\n  \"3\": {\\n    \"mcq\": \"What do all organisms have in common?\",\\n    \"options\": {\\n      \"a\": \"They all have a similar life span.\",\\n      \"b\": \"They are made up of cells.\",\\n      \"c\": \"They can all move and grow.\",\\n      \"d\": \"They can all reproduce.\"\\n    },\\n    \"correct\": \"b\"\\n  },\\n  \"4\": {\\n    \"mcq\": \"What is the role of energy processing in living organisms?\",\\n    \"options\": {\\n      \"a\": \"It helps in the regulation of internal processes.\",\\n      \"b\": \"It allows for movement, growth, and reproduction.\",\\n      \"c\": \"It is essential for the functioning of genes.\",\\n      \"d\": \"It helps in the formation of new cells.\"\\n    },\\n    \"correct\": \"b\"\\n  },\\n  \"5\": {\\n    \"mcq\": \"What is a key feature of life that allows organisms to regulate their internal environment?\",\\n    \"options\": {\\n      \"a\": \"Homeostasis\",\\n      \"b\": \"Metabolism\",\\n      \"c\": \"Reproduction\",\\n      \"d\": \"Evolution\"\\n    },\\n    \"correct\": \"a\"\\n  },\\n  \"6\": {\\n    \"mcq\": \"What are the different levels of organization that biologists study life at?\",\\n    \"options\": {\\n      \"a\": \"Molecular, cellular, and ecological\",\\n      \"b\": \"Molecular, anatomical, and physiological\",\\n      \"c\": \"Genetic, ecological, and evolutionary\",\\n      \"d\": \"Cellular, tissue, and organ systems\"\\n    },\\n    \"correct\": \"b\"\\n  },\\n  \"7\": {\\n    \"mcq\": \"What is the scientific method used for in biology?\",\\n    \"options\": {\\n      \"a\": \"To make observations and form conclusions\",\\n      \"b\": \"To pose questions and generate hypotheses only\",\\n      \"c\": \"To perform experiments and collect data\",\\n      \"d\": \"All of the above\"\\n    },\\n    \"correct\": \"d\"\\n  },\\n  \"8\": {\\n    \"mcq\": \"How diverse is life on Earth, approximately?\",\\n    \"options\": {\\n      \"a\": \"Over 1 million species\",\\n      \"b\": \"Over 10 million species\",\\n      \"c\": \"Over 1 billion species\",\\n      \"d\": \"Over 3.7 billion species\"\\n    },\\n    \"correct\": \"d\"\\n  },\\n  \"9\": {\\n    \"mcq\": \"Which of the following are eukaryotic organisms?\",\\n    \"options\": {\\n      \"a\": \"Fungi and plants\",\\n      \"b\": \"Archaea and bacteria\",\\n      \"c\": \"Protists and animals\",\\n      \"d\": \"Fungi and archaea\"\\n    },\\n    \"correct\": \"a\"\\n  },\\n  \"10\": {\\n    \"mcq\": \"What is the role of different organisms in an ecosystem?\",\\n    \"options\": {\\n      \"a\": \"They contribute to biodiversity and cycle nutrients.\",\\n      \"b\": \"They maintain the pH balance in the soil.\",\\n      \"c\": \"They produce oxygen and absorb carbon dioxide.\",\\n      \"d\": \"All of the above\"\\n    },\\n    \"correct\": \"a\"\\n  }\\n}',\n",
       " 'review': '{\\n  \"1\": {\\n    \"mcq\": \"What is biology?\",\\n    \"options\": {\\n      \"a\": \"The study of the physical world and its phenomena.\",\\n      \"b\": \"The scientific study of life and its processes.\",\\n      \"c\": \"A branch of science that deals with the composition and properties of substances.\",\\n      \"d\": \"The study of the universe and its origins.\"\\n    },\\n    \"correct\": \"b\"\\n  },\\n  \"2\": {\\n    \"mcq\": \"What are the unifying themes that tie biology together as a field?\",\\n    \"options\": {\\n      \"a\": \"Cell structure, evolution, energy processing, and environmental regulation.\",\\n      \"b\": \"Cell division, genetics, evolution, and ecology.\",\\n      \"c\": \"Biochemistry, cell biology, and genetics.\",\\n      \"d\": \"Ecology, anatomy, and physiology.\"\\n    },\\n    \"correct\": \"a\"\\n  },\\n  \"3\": {\\n    \"mcq\": \"What is the basic unit of life that processes hereditary information?\",\\n    \"options\": {\\n      \"a\": \"Cell\",\\n      \"b\": \"Gene\",\\n      \"c\": \"Protein\",\\n      \"d\": \"Organelle\"\\n    },\\n    \"correct\": \"a\"\\n  },\\n  \"4\": {\\n    \"mcq\": \"Which theme explains the unity and diversity of life?\",\\n    \"options\": {\\n      \"a\": \"Evolution\",\\n      \"b\": \"Energy processing\",\\n     سازمان\\n      \"c\": \"Cell theory\",\\n      \"d\": \"Environmental regulation\"\\n    },\\n    \"correct\": \"a\"\\n  },\\n  \"5\": {\\n    \"mcq\": \"What does the term \\'biodiversity\\' refer to?\",\\n    \"options\": {\\n      \"a\": \"The variety of life and its processes within a specific ecosystem.\",\\n      \"b\": \"The number of different species in a given area.\",\\n      \"c\": \"The genetic variation within a population.\",\\n      \"d\": \"The diversity of ecosystems on Earth.\"\\n    },\\n    \"correct\": \"b\"\\n  },\\n  \"6\": {\\n    \"mcq\": \"What are the roles of organisms in an ecosystem?\",\\n    \"options\": {\\n      \"a\": \"They produce energy through photosynthesis.\",\\n      \"b\": \"They cycle nutrients and energy through their environment.\",\\n      \"c\": \"They maintain ecological balance by regulating population sizes.\",\\n      \"d\": \"All of the above.\"\\n    },\\n    \"correct\": \"d\"\\n  },\\n  \"7\": {\\n    \"mcq\": \"What is the scientific method used for in biology?\",\\n    \"options\": {\\n      \"a\": \"To make observations and collect data.\",\\n      \"b\": \"To form conclusions and develop theories.\",\\n      \"c\": \"To pose questions and conduct experiments.\",\\n      \"d\": \"All of the above.\"\\n    },\\n    \"correct\": \"d\"\\n  },\\n  \"8\": {\\n    \"mcq\": \"How old is life on Earth, according to the text?\",\\n    \"options\": {\\n      \"a\": \"3.7 million years\",\\n      \"b\": \"3.7 billion years\",\\n      \"c\": \"7.3 billion years\",\\n      \"d\": \"7.3 million years\"\\n    },\\n    \"correct\": \"b\"\\n  },\\n  \"9\": {\\n    \"mcq\": \"What are prokaryotic organisms?\",\\n    \"options\": {\\n      \"a\": \"Single-celled organisms without a nucleus.\",\\n      \"b\": \"Multi-cellular organisms with a defined nucleus.\",\\n      \"c\": \"Organisms that produce their own food through photosynthesis.\",\\n      \"d\": \"Organisms that obtain energy by breaking down organic matter.\"\\n    },\\n    \"correct\": \"a\"\\n  },\\n  \"10\": {\\n    \"mcq\": \"Which subdiscipline of biology focuses on the structure and function of cells?\",\\n    \"options\": {\\n      \"a\": \"Molecular biology\",\\n      \"b\": \"Cell biology\",\\n      \"c\": \"Anatomy\",\\n      \"d\": \"Physiology\"\\n    },\\n    \"correct\": \"b\"\\n  }\\n}'}"
      ]
     },
     "execution_count": 222,
     "metadata": {},
     "output_type": "execute_result"
    }
   ],
   "source": [
    "response"
   ]
  },
  {
   "cell_type": "code",
   "execution_count": 223,
   "metadata": {},
   "outputs": [],
   "source": [
    "quiz=response.get(\"quiz\")"
   ]
  },
  {
   "cell_type": "code",
   "execution_count": 224,
   "metadata": {},
   "outputs": [],
   "source": [
    "quiz = json.loads(quiz)"
   ]
  },
  {
   "cell_type": "code",
   "execution_count": 225,
   "metadata": {},
   "outputs": [],
   "source": [
    "quiz_table_data = []\n",
    "for key, value in quiz.items():\n",
    "    mcq = value[\"mcq\"]\n",
    "    options = \" | \".join(\n",
    "        [\n",
    "            f\"{option}: {option_value}\"\n",
    "            for option, option_value in value[\"options\"].items()\n",
    "            ]\n",
    "        )\n",
    "    correct = value[\"correct\"]\n",
    "    quiz_table_data.append({\"MCQ\": mcq, \"Choices\": options, \"Correct\": correct})"
   ]
  },
  {
   "cell_type": "code",
   "execution_count": 226,
   "metadata": {},
   "outputs": [
    {
     "data": {
      "text/plain": [
       "[{'MCQ': 'What is biology?',\n",
       "  'Choices': 'a: The study of the natural environment. | b: The scientific study of life. | c: A branch of science that deals with the study of chemicals. | d: The study of the universe and its phenomena.',\n",
       "  'Correct': 'b'},\n",
       " {'MCQ': 'What are the unifying themes that tie biology together as a field?',\n",
       "  'Choices': 'a: Cell structure, evolution, energy processing, and environmental regulation. | b: Chemistry, physics, and biology. | c: Cell structure and function. | d: Evolution and genetics only.',\n",
       "  'Correct': 'a'},\n",
       " {'MCQ': 'What do all organisms have in common?',\n",
       "  'Choices': 'a: They all have a similar life span. | b: They are made up of cells. | c: They can all move and grow. | d: They can all reproduce.',\n",
       "  'Correct': 'b'},\n",
       " {'MCQ': 'What is the role of energy processing in living organisms?',\n",
       "  'Choices': 'a: It helps in the regulation of internal processes. | b: It allows for movement, growth, and reproduction. | c: It is essential for the functioning of genes. | d: It helps in the formation of new cells.',\n",
       "  'Correct': 'b'},\n",
       " {'MCQ': 'What is a key feature of life that allows organisms to regulate their internal environment?',\n",
       "  'Choices': 'a: Homeostasis | b: Metabolism | c: Reproduction | d: Evolution',\n",
       "  'Correct': 'a'},\n",
       " {'MCQ': 'What are the different levels of organization that biologists study life at?',\n",
       "  'Choices': 'a: Molecular, cellular, and ecological | b: Molecular, anatomical, and physiological | c: Genetic, ecological, and evolutionary | d: Cellular, tissue, and organ systems',\n",
       "  'Correct': 'b'},\n",
       " {'MCQ': 'What is the scientific method used for in biology?',\n",
       "  'Choices': 'a: To make observations and form conclusions | b: To pose questions and generate hypotheses only | c: To perform experiments and collect data | d: All of the above',\n",
       "  'Correct': 'd'},\n",
       " {'MCQ': 'How diverse is life on Earth, approximately?',\n",
       "  'Choices': 'a: Over 1 million species | b: Over 10 million species | c: Over 1 billion species | d: Over 3.7 billion species',\n",
       "  'Correct': 'd'},\n",
       " {'MCQ': 'Which of the following are eukaryotic organisms?',\n",
       "  'Choices': 'a: Fungi and plants | b: Archaea and bacteria | c: Protists and animals | d: Fungi and archaea',\n",
       "  'Correct': 'a'},\n",
       " {'MCQ': 'What is the role of different organisms in an ecosystem?',\n",
       "  'Choices': 'a: They contribute to biodiversity and cycle nutrients. | b: They maintain the pH balance in the soil. | c: They produce oxygen and absorb carbon dioxide. | d: All of the above',\n",
       "  'Correct': 'a'}]"
      ]
     },
     "execution_count": 226,
     "metadata": {},
     "output_type": "execute_result"
    }
   ],
   "source": [
    "quiz_table_data"
   ]
  },
  {
   "cell_type": "code",
   "execution_count": 227,
   "metadata": {},
   "outputs": [],
   "source": [
    "quiz=pd.DataFrame(quiz_table_data)\n"
   ]
  },
  {
   "cell_type": "code",
   "execution_count": 228,
   "metadata": {},
   "outputs": [],
   "source": [
    "quiz.to_csv(\"mcq_questions.csv\",index=False)\n"
   ]
  },
  {
   "cell_type": "code",
   "execution_count": null,
   "metadata": {},
   "outputs": [],
   "source": []
  },
  {
   "cell_type": "code",
   "execution_count": null,
   "metadata": {},
   "outputs": [],
   "source": []
  }
 ],
 "metadata": {
  "kernelspec": {
   "display_name": "Python 3",
   "language": "python",
   "name": "python3"
  },
  "language_info": {
   "codemirror_mode": {
    "name": "ipython",
    "version": 3
   },
   "file_extension": ".py",
   "mimetype": "text/x-python",
   "name": "python",
   "nbconvert_exporter": "python",
   "pygments_lexer": "ipython3",
   "version": "3.8.19"
  }
 },
 "nbformat": 4,
 "nbformat_minor": 2
}
